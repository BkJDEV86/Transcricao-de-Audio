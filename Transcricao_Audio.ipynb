{
 "cells": [
  {
   "cell_type": "markdown",
   "metadata": {
    "id": "1GSGB2jofgQR"
   },
   "source": [
    "# Transcrição de Audio"
   ]
  },
  {
   "cell_type": "markdown",
   "metadata": {
    "id": "uvmb5ottflnL"
   },
   "source": [
    "### Bibliotecas"
   ]
  },
  {
   "cell_type": "code",
   "execution_count": null,
   "metadata": {
    "colab": {
     "base_uri": "https://localhost:8080/"
    },
    "collapsed": true,
    "executionInfo": {
     "elapsed": 19916,
     "status": "ok",
     "timestamp": 1741618545094,
     "user": {
      "displayName": "Fernando Amaral",
      "userId": "13956145547499510680"
     },
     "user_tz": 180
    },
    "id": "hpX2LQJvM1Cb",
    "outputId": "d8f50de5-d149-4349-c42d-db036b52e8de"
   },
   "outputs": [],
   "source": [
    "!pip install openai-whisper"
   ]
  },
  {
   "cell_type": "code",
   "execution_count": 2,
   "metadata": {
    "executionInfo": {
     "elapsed": 4810,
     "status": "ok",
     "timestamp": 1741618549913,
     "user": {
      "displayName": "Fernando Amaral",
      "userId": "13956145547499510680"
     },
     "user_tz": 180
    },
    "id": "MzF0ewCaNkew"
   },
   "outputs": [],
   "source": [
    "import whisper\n",
    "import os"
   ]
  },
  {
   "cell_type": "markdown",
   "metadata": {
    "id": "e5vUJmj_fr6j"
   },
   "source": [
    "### Modelo"
   ]
  },
  {
   "cell_type": "code",
   "execution_count": null,
   "metadata": {
    "colab": {
     "base_uri": "https://localhost:8080/"
    },
    "executionInfo": {
     "elapsed": 9298,
     "status": "ok",
     "timestamp": 1741618649132,
     "user": {
      "displayName": "Fernando Amaral",
      "userId": "13956145547499510680"
     },
     "user_tz": 180
    },
    "id": "6fNz8_voNqi4",
    "outputId": "08006ff5-6caa-4019-aee0-33b305ecfc52"
   },
   "outputs": [],
   "source": [
    "modelo = whisper.load_model(\"base\")\n",
    "resultado = modelo.transcribe(\"PTT-20250620-WA0004.opus\")\n",
    "\n",
    "texto = resultado['text']\n",
    "idioma = resultado['language'] # Aqui é pra ver se o idioma foi detectado corretamente."
   ]
  },
  {
   "cell_type": "markdown",
   "metadata": {
    "id": "GVeHXlTzfw_n"
   },
   "source": [
    "### Resultado"
   ]
  },
  {
   "cell_type": "code",
   "execution_count": null,
   "metadata": {
    "colab": {
     "base_uri": "https://localhost:8080/"
    },
    "executionInfo": {
     "elapsed": 43,
     "status": "ok",
     "timestamp": 1741618696106,
     "user": {
      "displayName": "Fernando Amaral",
      "userId": "13956145547499510680"
     },
     "user_tz": 180
    },
    "id": "QdvkrwlpOGl3",
    "outputId": "dd7f0dfe-c707-4da8-f250-449b3f403773"
   },
   "outputs": [],
   "source": [
    "print(f'Transcrição: {texto} \\nIdioma: {idioma}')\n",
    "with open('arquivo.txt','w') as f: # Gravando a transcrição em um arquivo texto.\n",
    "  f.write(f'{texto}')"
   ]
  },
  {
   "cell_type": "code",
   "execution_count": null,
   "metadata": {
    "id": "QUVmE57XOejf"
   },
   "outputs": [],
   "source": []
  }
 ],
 "metadata": {
  "accelerator": "GPU",
  "colab": {
   "gpuType": "T4",
   "provenance": []
  },
  "gpuClass": "standard",
  "kernelspec": {
   "display_name": "Python 3",
   "name": "python3"
  },
  "language_info": {
   "name": "python"
  }
 },
 "nbformat": 4,
 "nbformat_minor": 0
}
